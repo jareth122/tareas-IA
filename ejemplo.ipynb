{
 "cells": [
  {
   "cell_type": "code",
   "execution_count": 2,
   "metadata": {},
   "outputs": [],
   "source": [
    "import cv2 as cv "
   ]
  },
  {
   "cell_type": "code",
   "execution_count": 3,
   "metadata": {},
   "outputs": [
    {
     "data": {
      "text/plain": [
       "'c:\\\\Users\\\\agust\\\\Documents\\\\9 SEMESTRE\\\\IA\\\\TAREAS IA'"
      ]
     },
     "execution_count": 3,
     "metadata": {},
     "output_type": "execute_result"
    }
   ],
   "source": [
    "pwd"
   ]
  },
  {
   "cell_type": "code",
   "execution_count": 4,
   "metadata": {},
   "outputs": [],
   "source": [
    "import cv2 as cv\n",
    "img = cv.imread('c:\\\\Users\\\\agust\\\\Documents\\\\9 SEMESTRE\\\\IA\\\\TAREAS IA\\\\perro.jpg',1)\n",
    "img2 = cv.cvtColor(img, cv.COLOR_BGR2HSV)\n",
    "ubb=(0,60,60)\n",
    "uba=(10, 255,255)\n",
    "ubb1=(170,60,60)\n",
    "uba1=(180,255,255)\n",
    "mask1 = cv.inRange(img2, ubb, uba)\n",
    "mask2 = cv.inRange(img2, ubb1, uba1)\n",
    "mask3 = mask1 + mask2\n",
    "img3 = cv.bitwise_and(img,img, mask=mask3)\n",
    "cv.imshow('img2', img2)\n",
    "cv.imshow('img', img)\n",
    "cv.imshow('img3', img3)\n",
    "cv.imshow('mask3', mask3)\n",
    "cv.imshow('mask2', mask2)\n",
    "cv.imshow('mask1', mask1)\n",
    " \n",
    "cv.waitKey(0)\n",
    "cv.destroyAllWindows()"
   ]
  },
  {
   "cell_type": "code",
   "execution_count": 3,
   "metadata": {},
   "outputs": [
    {
     "ename": "KeyboardInterrupt",
     "evalue": "",
     "output_type": "error",
     "traceback": [
      "\u001b[1;31m---------------------------------------------------------------------------\u001b[0m",
      "\u001b[1;31mKeyboardInterrupt\u001b[0m                         Traceback (most recent call last)",
      "Cell \u001b[1;32mIn[3], line 15\u001b[0m\n\u001b[0;32m     13\u001b[0m cv\u001b[38;5;241m.\u001b[39mimshow(\u001b[38;5;124m'\u001b[39m\u001b[38;5;124mg\u001b[39m\u001b[38;5;124m'\u001b[39m, g)\n\u001b[0;32m     14\u001b[0m cv\u001b[38;5;241m.\u001b[39mimshow(\u001b[38;5;124m'\u001b[39m\u001b[38;5;124mb\u001b[39m\u001b[38;5;124m'\u001b[39m, b)\n\u001b[1;32m---> 15\u001b[0m k \u001b[38;5;241m=\u001b[39m\u001b[43mcv\u001b[49m\u001b[38;5;241;43m.\u001b[39;49m\u001b[43mwaitKey\u001b[49m\u001b[43m(\u001b[49m\u001b[38;5;241;43m20\u001b[39;49m\u001b[43m)\u001b[49m \u001b[38;5;241m&\u001b[39m \u001b[38;5;241m0xFF\u001b[39m\n\u001b[0;32m     16\u001b[0m \u001b[38;5;28;01mif\u001b[39;00m k \u001b[38;5;241m==\u001b[39m \u001b[38;5;241m27\u001b[39m :\n\u001b[0;32m     17\u001b[0m     \u001b[38;5;28;01mbreak\u001b[39;00m\n",
      "\u001b[1;31mKeyboardInterrupt\u001b[0m: "
     ]
    }
   ],
   "source": [
    "# tercer ejercicio basico \n",
    "import cv2 as cv \n",
    "cap = cv.VideoCapture(0)\n",
    "while(True):\n",
    "    ret, img = cap.read()\n",
    "    r,g,b = cv.split(img)\n",
    "    img2 = cv.cvtColor(img, cv.COLOR_BGR2HSV)\n",
    " \n",
    "    if ret == True:\n",
    "        cv.imshow('video2', img2)\n",
    "        cv.imshow('video', img)\n",
    "        cv.imshow('r', r)\n",
    "        cv.imshow('g', g)\n",
    "        cv.imshow('b', b)\n",
    "        k =cv.waitKey(20) & 0xFF\n",
    "        if k == 27 :\n",
    "            break\n",
    "    else:\n",
    "        break\n",
    "cap.release()\n",
    "cv.destroyAllWindows()"
   ]
  },
  {
   "cell_type": "code",
   "execution_count": 1,
   "metadata": {},
   "outputs": [],
   "source": [
    "import cv2 as cv \n",
    "cap = cv.VideoCapture(0)\n",
    "while(True):\n",
    "    ret, img = cap.read()\n",
    "    if ret == True:\n",
    "        img2 = cv.cvtColor(img, cv.COLOR_BGR2HSV)\n",
    "        ubb=(100,0,0)\n",
    "        uba=(110,255,255)\n",
    "        mask = cv.inRange(img2, ubb, uba)\n",
    "        res = cv.bitwise_and(img,img, mask=mask)\n",
    "        cv.imshow('img2', img)\n",
    "        cv.imshow('res', res)\n",
    "        cv.imshow('mask', mask)\n",
    "        k =cv.waitKey(20) & 0xFF\n",
    "        if k == 27 :\n",
    "            break\n",
    "        \n",
    "cap.release()\n",
    "cv.destroyAllWindows()"
   ]
  }
 ],
 "metadata": {
  "kernelspec": {
   "display_name": "Python 3",
   "language": "python",
   "name": "python3"
  },
  "language_info": {
   "codemirror_mode": {
    "name": "ipython",
    "version": 3
   },
   "file_extension": ".py",
   "mimetype": "text/x-python",
   "name": "python",
   "nbconvert_exporter": "python",
   "pygments_lexer": "ipython3",
   "version": "3.12.2"
  }
 },
 "nbformat": 4,
 "nbformat_minor": 2
}
